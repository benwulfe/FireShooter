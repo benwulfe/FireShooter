{
  "nbformat": 4,
  "nbformat_minor": 0,
  "metadata": {
    "colab": {
      "provenance": [],
      "include_colab_link": true
    },
    "kernelspec": {
      "name": "python3",
      "display_name": "Python 3"
    },
    "language_info": {
      "name": "python"
    }
  },
  "cells": [
    {
      "cell_type": "markdown",
      "metadata": {
        "id": "view-in-github",
        "colab_type": "text"
      },
      "source": [
        "<a href=\"https://colab.research.google.com/github/benwulfe/FireShooter/blob/master/ddf_ee_api.ipynb\" target=\"_parent\"><img src=\"https://colab.research.google.com/assets/colab-badge.svg\" alt=\"Open In Colab\"/></a>"
      ]
    },
    {
      "cell_type": "code",
      "source": [
        "import sys\n",
        "!if [ ! -d \"/content/ddf_common_stub\" ] ; then git clone -b test https://github.com/tnc-br/ddf_common_stub.git; fi\n",
        "sys.path.append(\"/content/ddf_common_stub/\")\n",
        "import ddfimport\n",
        "ddfimport.ddf_source_control_pane()\n",
        "# ddfimport.ddf_import_common()\n"
      ],
      "metadata": {
        "id": "xV--VZujfe62"
      },
      "execution_count": null,
      "outputs": []
    },
    {
      "cell_type": "code",
      "source": [
        "import importlib\n",
        "import eeddf\n",
        "importlib.reload(eeddf)\n",
        "import raster\n",
        "importlib.reload(raster)\n",
        "import eeraster\n",
        "importlib.reload(eeraster)\n",
        "import dataset\n",
        "importlib.reload(dataset)\n",
        "import numpy as np\n",
        "import time"
      ],
      "metadata": {
        "id": "etV5uhKRrNQ8"
      },
      "execution_count": null,
      "outputs": []
    },
    {
      "cell_type": "code",
      "source": [
        "# Brazil national territory extends 4,395 kilometers (2,731 mi) from north to\n",
        "# south (5°16'20\" N to 33°44'32\" S latitude), and 4,319 kilometers (2,684 mi)\n",
        "# from east to west (34°47'30\" W to 73°59'32\" W longitude)\n",
        "\n",
        "def simple_dem_raster_query_latlon():\n",
        "  value = eeraster.dem().value_at(-50.0, -10.0)\n",
        "  print(value)\n",
        "  assert(value > 0)\n",
        "\n",
        "def simple_dem_raster_query_latlon_int64():\n",
        "  value = eeraster.dem().value_at(-50, -10)\n",
        "  print(value)\n",
        "  assert(value > 0)\n",
        "\n",
        "def water_dem_raster_query_latlon():\n",
        "  value = eeraster.dem().value_at(-40.0, -20.0)\n",
        "  print(value)\n",
        "  assert(np.isnan(value))\n",
        "\n",
        "def list_dem_raster_query_latlon_int64():\n",
        "  values = eeraster.dem().values_at([[-50, -10], [-50, -9.5], [-40, -9.5], [-30, -10]])\n",
        "  print(values)\n",
        "  assert(len(values) > 0)\n",
        "  assert(values[0] > 0)\n",
        "  assert(values[1] > 0)\n",
        "  assert(values[2] > 0)\n",
        "  assert(np.isnan(values[3]))\n",
        "\n",
        "def ee_performance():\n",
        "  #-8,-35 to -8,-75\n",
        "  start_time = time.time()\n",
        "\n",
        "  coords = [(n, -8.0) for n in np.arange(-75.0, -35.0, 0.01)]\n",
        "  print(\"sending batch of coords of size, \", len(coords))\n",
        "  values = eeraster.dem().values_at(coords)\n",
        "  assert(len(values) == len(coords))\n",
        "\n",
        "  end_time = time.time()\n",
        "  total_time = end_time - start_time\n",
        "  print(f\"Total time: {total_time:.2f} seconds\")\n",
        "  print(f\"Throughput: {len(coords) / total_time:.2f} qps\")\n",
        "\n",
        "def reference_sample_feature_test():\n",
        "  ref_samples = dataset.load_reference_samples()\n",
        "  print(ref_samples.head())\n",
        "  print(\"************* Loading DEM ******************\")\n",
        "  df = eeraster.dem().values_at_df(ref_samples, \"dem\")\n",
        "  print(df.head())\n",
        "\n",
        "def performance_xtreme_test():\n",
        "  eeraster.set_ee_options(parallel_ops=40, chunk_size=120)\n",
        "  #-8,-35 to -8,-75\n",
        "  start_time = time.time()\n",
        "\n",
        "  coords = [(n, -8.0) for n in np.arange(-75.0, -35.0, 0.01)]\n",
        "  print(\"sending batch of coords of size, \", len(coords))\n",
        "  values = eeraster.dem().values_at(coords)\n",
        "  assert(len(values) == len(coords))\n",
        "\n",
        "  end_time = time.time()\n",
        "  total_time = end_time - start_time\n",
        "  print(f\"Total time: {total_time:.2f} seconds\")\n",
        "  print(f\"Throughput: {len(coords) / total_time:.2f} qps\")\n",
        "  eeraster.set_ee_options(parallel_ops=30, chunk_size=80)\n",
        "\n",
        "\n",
        "simple_dem_raster_query_latlon()\n",
        "simple_dem_raster_query_latlon_int64()\n",
        "list_dem_raster_query_latlon_int64()\n",
        "water_dem_raster_query_latlon()\n",
        "ee_performance()\n",
        "reference_sample_feature_test()\n",
        "performance_xtreme_test()\n"
      ],
      "metadata": {
        "id": "Nbn5shXqhge-"
      },
      "execution_count": null,
      "outputs": []
    },
    {
      "cell_type": "code",
      "source": [
        "def test_ingestion():\n",
        "    isoscape_path = raster.get_raster_path(\"test_isoscape.tiff\")\n",
        "    raster.stamp_isoscape(isoscape_path, \"p_value\", str(0.05))\n",
        "\n",
        "    test_asset = \"projects/river-sky-386919/assets/testing/test_isoscape\"\n",
        "    eeraster.ingest_isoscape(isoscape_path, test_asset, allow_overwrite=True)\n",
        "\n",
        "def test_stamped():\n",
        "    test_asset = \"projects/river-sky-386919/assets/testing/test_isoscape\"\n",
        "    assert eeraster.get_props(test_asset)[\"p_value\"] == str(0.05)\n",
        "\n",
        "test_ingestion()\n",
        "test_stamped()"
      ],
      "metadata": {
        "id": "9vhNVeNRGnej"
      },
      "execution_count": null,
      "outputs": []
    }
  ]
}